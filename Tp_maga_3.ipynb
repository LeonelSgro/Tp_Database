{
  "nbformat": 4,
  "nbformat_minor": 0,
  "metadata": {
    "colab": {
      "provenance": [],
      "authorship_tag": "ABX9TyOOrumaGtbRFDOyjbUNWN/T",
      "include_colab_link": true
    },
    "kernelspec": {
      "name": "python3",
      "display_name": "Python 3"
    },
    "language_info": {
      "name": "python"
    }
  },
  "cells": [
    {
      "cell_type": "markdown",
      "metadata": {
        "id": "view-in-github",
        "colab_type": "text"
      },
      "source": [
        "<a href=\"https://colab.research.google.com/github/LeonelSgro/Tp_Database/blob/main/Tp_maga_3.ipynb\" target=\"_parent\"><img src=\"https://colab.research.google.com/assets/colab-badge.svg\" alt=\"Open In Colab\"/></a>"
      ]
    },
    {
      "cell_type": "markdown",
      "source": [],
      "metadata": {
        "id": "l0AhVvqrWWXR"
      }
    },
    {
      "cell_type": "code",
      "source": [
        "import pandas as pd\n",
        "import numpy as np\n",
        "import matplotlib.pyplot as plt1\n",
        "import matplotlib.pyplot as plt2\n",
        "import matplotlib.pyplot as plt3\n",
        "\n",
        "\n",
        "# Lee el archivo csv y lo guarda en la variable csv\n",
        "csv = pd.read_csv(\"/content/study_performance.csv\")\n",
        "\n",
        "\n",
        "def rename_col(csv, old_name, new_name):\n",
        "  df = csv.copy()\n",
        "  df = df.rename(columns = {old_name: new_name})\n",
        "  return df\n",
        "\n",
        "def trim_characters(csv ,index_cols, int_chars_to_trim):\n",
        "  df = csv.copy()\n",
        "  # Saca la cantidad de caracteres especificada de una columna por su indice\n",
        "  df.iloc[:, index_cols] = df.iloc[:, index_cols].str[chars_to_strip:]\n",
        "  return df\n",
        "\n",
        "\n",
        "# Saca la columna \"lunch\". Ya que no es necesaria para nuestro analisis.\n",
        "csv = csv.drop('lunch', axis = 1)\n",
        "\n",
        "# Define el indice de la columna a modificar\n",
        "column_index = 1\n",
        "\n",
        "# Define el numero de caracteres a eliminar de todos los valores de una columna\n",
        "chars_to_strip = 5\n",
        "\n",
        "csv = trim_characters(csv,column_index,chars_to_strip)\n",
        "\n",
        "csv['gender'] = csv['gender'].str.upper()\n",
        "\n",
        "old_name = \"race_ethnicity\"\n",
        "\n",
        "new_name = \"group\"\n",
        "\n",
        "csv = rename_col(csv, old_name, new_name)\n",
        "\n",
        "csv.head()\n",
        "\n",
        "# Una vez limpio el csv empezamos con los graficos\n",
        "\n",
        "#Grafico 1\n",
        "valoresX = csv['group'].unique()\n",
        "\n",
        "valoresY = csv['group'].value_counts().to_list()\n",
        "\n",
        "plt1.bar(valoresX, valoresY, width = 0.7, color = \"turquoise\")\n",
        "\n",
        "plt1.xticks(valoresX,fontsize = 10)\n",
        "\n",
        "plt1.xticks(rotation=90)\n",
        "\n",
        "plt1.show()\n",
        "\n",
        "\n",
        "\n",
        "\n",
        "\n",
        "\n",
        "\n",
        "\n"
      ],
      "metadata": {
        "colab": {
          "base_uri": "https://localhost:8080/",
          "height": 431
        },
        "id": "u8A18hxdWXGI",
        "outputId": "61c4609c-3d34-41fa-c949-ca274108da40"
      },
      "execution_count": 62,
      "outputs": [
        {
          "output_type": "display_data",
          "data": {
            "text/plain": [
              "<Figure size 640x480 with 1 Axes>"
            ],
            "image/png": "[encoded data removed]"
          },
          "metadata": {}
        }
      ]
    }
  ]
}